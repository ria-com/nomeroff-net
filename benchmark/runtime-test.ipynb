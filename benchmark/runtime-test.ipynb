{
 "cells": [
  {
   "cell_type": "markdown",
   "metadata": {},
   "source": [
    "# Runtime Test"
   ]
  },
  {
   "cell_type": "markdown",
   "metadata": {},
   "source": [
    "Before runing this test, please download models from [https://nomeroff.net.ua/models/](https://nomeroff.net.ua/models/) to **./models/** directory. "
   ]
  },
  {
   "cell_type": "code",
   "execution_count": 1,
   "metadata": {},
   "outputs": [],
   "source": [
    "# Specify device\n",
    "import os\n",
    "os.environ[\"CUDA_VISIBLE_DEVICES\"] = \"0\""
   ]
  },
  {
   "cell_type": "code",
   "execution_count": 2,
   "metadata": {},
   "outputs": [],
   "source": [
    "# Import all necessary libraries.\n",
    "import numpy as np\n",
    "import sys\n",
    "import time\n",
    "from turbojpeg import TurboJPEG\n",
    "jpeg = TurboJPEG()\n",
    "\n",
    "import warnings\n",
    "warnings.filterwarnings('ignore')\n",
    "\n",
    "# NomeroffNet path\n",
    "NOMEROFF_NET_DIR = os.path.abspath('../')\n",
    "sys.path.append(NOMEROFF_NET_DIR)"
   ]
  },
  {
   "cell_type": "code",
   "execution_count": 3,
   "metadata": {},
   "outputs": [
    {
     "name": "stderr",
     "output_type": "stream",
     "text": [
      "YOLOv5 🚀 v6.0-139-g8f35436 torch 1.10.0+cu113 CUDA:cuda (NVIDIA GeForce RTX 3090, 24265MiB)\n",
      "\n",
      "Fusing layers... \n",
      "Model Summary: 213 layers, 7012822 parameters, 0 gradients, 15.8 GFLOPs\n"
     ]
    }
   ],
   "source": [
    "from NomeroffNet.YoloV5Detector import Detector\n",
    "\n",
    "detector = Detector()\n",
    "detector.load()"
   ]
  },
  {
   "cell_type": "code",
   "execution_count": 4,
   "metadata": {},
   "outputs": [
    {
     "name": "stdout",
     "output_type": "stream",
     "text": [
      "Loading weights from checkpoint (/var/www/nomeroff-net24/NomeroffNet/tools/../../data/./models/NpPointsCraft/craft_mlt/craft_mlt_25k_2020-02-16.pth)\n",
      "Loading weights of refiner from checkpoint (/var/www/nomeroff-net24/NomeroffNet/tools/../../data/./models/NpPointsCraft/craft_refiner/craft_refiner_CTW1500_2020-02-16.pth)\n"
     ]
    }
   ],
   "source": [
    "from NomeroffNet.BBoxNpPoints import NpPointsCraft, convertCvZonesRGBtoBGR, getCvZoneRGB, reshapePoints\n",
    "\n",
    "npPointsCraft = NpPointsCraft()\n",
    "npPointsCraft.load()"
   ]
  },
  {
   "cell_type": "code",
   "execution_count": 5,
   "metadata": {},
   "outputs": [
    {
     "data": {
      "text/plain": [
       "NPOptionsNet(\n",
       "  (resnet): Sequential(\n",
       "    (0): Conv2d(3, 64, kernel_size=(7, 7), stride=(2, 2), padding=(3, 3), bias=False)\n",
       "    (1): BatchNorm2d(64, eps=1e-05, momentum=0.1, affine=True, track_running_stats=True)\n",
       "    (2): ReLU(inplace=True)\n",
       "    (3): MaxPool2d(kernel_size=3, stride=2, padding=1, dilation=1, ceil_mode=False)\n",
       "    (4): Sequential(\n",
       "      (0): BasicBlock(\n",
       "        (conv1): Conv2d(64, 64, kernel_size=(3, 3), stride=(1, 1), padding=(1, 1), bias=False)\n",
       "        (bn1): BatchNorm2d(64, eps=1e-05, momentum=0.1, affine=True, track_running_stats=True)\n",
       "        (relu): ReLU(inplace=True)\n",
       "        (conv2): Conv2d(64, 64, kernel_size=(3, 3), stride=(1, 1), padding=(1, 1), bias=False)\n",
       "        (bn2): BatchNorm2d(64, eps=1e-05, momentum=0.1, affine=True, track_running_stats=True)\n",
       "      )\n",
       "      (1): BasicBlock(\n",
       "        (conv1): Conv2d(64, 64, kernel_size=(3, 3), stride=(1, 1), padding=(1, 1), bias=False)\n",
       "        (bn1): BatchNorm2d(64, eps=1e-05, momentum=0.1, affine=True, track_running_stats=True)\n",
       "        (relu): ReLU(inplace=True)\n",
       "        (conv2): Conv2d(64, 64, kernel_size=(3, 3), stride=(1, 1), padding=(1, 1), bias=False)\n",
       "        (bn2): BatchNorm2d(64, eps=1e-05, momentum=0.1, affine=True, track_running_stats=True)\n",
       "      )\n",
       "    )\n",
       "    (5): Sequential(\n",
       "      (0): BasicBlock(\n",
       "        (conv1): Conv2d(64, 128, kernel_size=(3, 3), stride=(2, 2), padding=(1, 1), bias=False)\n",
       "        (bn1): BatchNorm2d(128, eps=1e-05, momentum=0.1, affine=True, track_running_stats=True)\n",
       "        (relu): ReLU(inplace=True)\n",
       "        (conv2): Conv2d(128, 128, kernel_size=(3, 3), stride=(1, 1), padding=(1, 1), bias=False)\n",
       "        (bn2): BatchNorm2d(128, eps=1e-05, momentum=0.1, affine=True, track_running_stats=True)\n",
       "        (downsample): Sequential(\n",
       "          (0): Conv2d(64, 128, kernel_size=(1, 1), stride=(2, 2), bias=False)\n",
       "          (1): BatchNorm2d(128, eps=1e-05, momentum=0.1, affine=True, track_running_stats=True)\n",
       "        )\n",
       "      )\n",
       "      (1): BasicBlock(\n",
       "        (conv1): Conv2d(128, 128, kernel_size=(3, 3), stride=(1, 1), padding=(1, 1), bias=False)\n",
       "        (bn1): BatchNorm2d(128, eps=1e-05, momentum=0.1, affine=True, track_running_stats=True)\n",
       "        (relu): ReLU(inplace=True)\n",
       "        (conv2): Conv2d(128, 128, kernel_size=(3, 3), stride=(1, 1), padding=(1, 1), bias=False)\n",
       "        (bn2): BatchNorm2d(128, eps=1e-05, momentum=0.1, affine=True, track_running_stats=True)\n",
       "      )\n",
       "    )\n",
       "    (6): Sequential(\n",
       "      (0): BasicBlock(\n",
       "        (conv1): Conv2d(128, 256, kernel_size=(3, 3), stride=(2, 2), padding=(1, 1), bias=False)\n",
       "        (bn1): BatchNorm2d(256, eps=1e-05, momentum=0.1, affine=True, track_running_stats=True)\n",
       "        (relu): ReLU(inplace=True)\n",
       "        (conv2): Conv2d(256, 256, kernel_size=(3, 3), stride=(1, 1), padding=(1, 1), bias=False)\n",
       "        (bn2): BatchNorm2d(256, eps=1e-05, momentum=0.1, affine=True, track_running_stats=True)\n",
       "        (downsample): Sequential(\n",
       "          (0): Conv2d(128, 256, kernel_size=(1, 1), stride=(2, 2), bias=False)\n",
       "          (1): BatchNorm2d(256, eps=1e-05, momentum=0.1, affine=True, track_running_stats=True)\n",
       "        )\n",
       "      )\n",
       "      (1): BasicBlock(\n",
       "        (conv1): Conv2d(256, 256, kernel_size=(3, 3), stride=(1, 1), padding=(1, 1), bias=False)\n",
       "        (bn1): BatchNorm2d(256, eps=1e-05, momentum=0.1, affine=True, track_running_stats=True)\n",
       "        (relu): ReLU(inplace=True)\n",
       "        (conv2): Conv2d(256, 256, kernel_size=(3, 3), stride=(1, 1), padding=(1, 1), bias=False)\n",
       "        (bn2): BatchNorm2d(256, eps=1e-05, momentum=0.1, affine=True, track_running_stats=True)\n",
       "      )\n",
       "    )\n",
       "  )\n",
       "  (dropout_reg): Dropout(p=0.2, inplace=False)\n",
       "  (fc1_reg): Linear(in_features=19456, out_features=512, bias=True)\n",
       "  (fc2_reg): Linear(in_features=512, out_features=256, bias=True)\n",
       "  (batch_norm_reg): BatchNorm1d(512, eps=1e-05, momentum=0.1, affine=True, track_running_stats=True)\n",
       "  (fc3_reg): Linear(in_features=256, out_features=15, bias=True)\n",
       "  (dropout_line): Dropout(p=0.2, inplace=False)\n",
       "  (fc1_line): Linear(in_features=19456, out_features=512, bias=True)\n",
       "  (fc2_line): Linear(in_features=512, out_features=256, bias=True)\n",
       "  (batch_norm_line): BatchNorm1d(512, eps=1e-05, momentum=0.1, affine=True, track_running_stats=True)\n",
       "  (fc3_line): Linear(in_features=256, out_features=3, bias=True)\n",
       ")"
      ]
     },
     "execution_count": 5,
     "metadata": {},
     "output_type": "execute_result"
    }
   ],
   "source": [
    "from NomeroffNet.OptionsDetector import OptionsDetector\n",
    "\n",
    "optionsDetector = OptionsDetector()\n",
    "optionsDetector.load()"
   ]
  },
  {
   "cell_type": "code",
   "execution_count": 6,
   "metadata": {},
   "outputs": [],
   "source": [
    "from NomeroffNet.TextDetector import TextDetector\n",
    "\n",
    "# Initialize text detector.\n",
    "textDetector = TextDetector({\n",
    "    \"eu_ua_2004_2015\": {\n",
    "        \"for_regions\": [\"eu_ua_2015\", \"eu_ua_2004\"],\n",
    "        \"model_path\": \"latest\"\n",
    "    },\n",
    "    \"eu_ua_1995\": {\n",
    "        \"for_regions\": [\"eu_ua_1995\"],\n",
    "        \"model_path\": \"latest\"\n",
    "    },\n",
    "    \"eu\": {\n",
    "        \"for_regions\": [\"eu\"],\n",
    "        \"model_path\": \"latest\"\n",
    "    },\n",
    "    \"ru\": {\n",
    "        \"for_regions\": [\"ru\", \"eu-ua-ordlo-lpr\", \"eu-ua-ordlo-dpr\"],\n",
    "        \"model_path\": \"latest\" \n",
    "    },\n",
    "    \"kz\": {\n",
    "        \"for_regions\": [\"kz\"],\n",
    "        \"model_path\": \"latest\"\n",
    "    },\n",
    "    \"ge\": {\n",
    "        \"for_regions\": [\"ge\"],\n",
    "        \"model_path\": \"latest\"\n",
    "    },\n",
    "    \"su\": {\n",
    "        \"for_regions\": [\"su\"],\n",
    "        \"model_path\": \"latest\"\n",
    "    }\n",
    "})"
   ]
  },
  {
   "cell_type": "code",
   "execution_count": 7,
   "metadata": {},
   "outputs": [],
   "source": [
    "async def test(dirName, fname):\n",
    "    start_time = time.time()\n",
    "    img_path = os.path.join(dirName, fname)\n",
    "    with open(img_path, 'rb') as in_file:\n",
    "        img = jpeg.decode(in_file.read())\n",
    "    #img = cv2.imread(img_path)\n",
    "    image_load_time = time.time() - start_time\n",
    "\n",
    "    start_time = time.time()\n",
    "    targetBoxes = detector.detect_bbox(img)\n",
    "    detect_bbox_time = time.time() - start_time\n",
    "    \n",
    "    start_time = time.time()\n",
    "    all_points = npPointsCraft.detect(img, targetBoxes)\n",
    "    all_points = [ps for ps in all_points if len(ps)]\n",
    "    craft_time = time.time() - start_time\n",
    "    \n",
    "    start_time = time.time()\n",
    "    \n",
    "    zones = convertCvZonesRGBtoBGR([getCvZoneRGB(img, reshapePoints(rect,1)) for rect in all_points])\n",
    "    \n",
    "    perspective_align_time = time.time() - start_time\n",
    "    \n",
    "    start_time = time.time()\n",
    "    regionIds, countLines = optionsDetector.predict(zones)\n",
    "    regionNames = optionsDetector.getRegionLabels(regionIds)\n",
    "    classification_time = time.time() - start_time\n",
    "    \n",
    "    start_time = time.time()\n",
    "    textArr = textDetector.predict(zones, regionNames, countLines)\n",
    "    ocr_time = time.time() - start_time\n",
    "    return (image_load_time, detect_bbox_time, craft_time, perspective_align_time, classification_time, ocr_time)"
   ]
  },
  {
   "cell_type": "code",
   "execution_count": 8,
   "metadata": {
    "scrolled": false
   },
   "outputs": [
    {
     "name": "stdout",
     "output_type": "stream",
     "text": [
      "pass 0\n",
      "pass 1\n",
      "pass 2\n",
      "pass 3\n",
      "pass 4\n",
      "pass 5\n",
      "pass 6\n",
      "pass 7\n",
      "pass 8\n",
      "pass 9\n"
     ]
    }
   ],
   "source": [
    "N = 10\n",
    "\n",
    "i = 0\n",
    "j = 0\n",
    "\n",
    "image_load_time_all        = 0\n",
    "detect_bbox_time_all       = 0\n",
    "craft_time_all             = 0\n",
    "perspective_align_time_all = 0\n",
    "classification_time_all    = 0\n",
    "ocr_time_all               = 0\n",
    "\n",
    "start_time = time.time()\n",
    "rootDir = 'images/'\n",
    "for i in np.arange(N):\n",
    "    print(\"pass {}\".format(i))\n",
    "    for dirName, subdirList, fileList in os.walk(rootDir):\n",
    "        for fname in fileList:\n",
    "            image_load_time, \\\n",
    "                detect_bbox_time, \\\n",
    "                craft_time, \\\n",
    "                perspective_align_time, \\\n",
    "                classification_time, \\\n",
    "                ocr_time = await test(dirName, fname)\n",
    "            image_load_time_all        += image_load_time\n",
    "            detect_bbox_time_all       += detect_bbox_time\n",
    "            craft_time_all             += craft_time\n",
    "            perspective_align_time_all += perspective_align_time\n",
    "            classification_time_all    += classification_time\n",
    "            ocr_time_all               += ocr_time\n",
    "            j += 1\n",
    "            #print(i, j)\n",
    "    i += 1\n",
    "end_time = time.time() - start_time"
   ]
  },
  {
   "cell_type": "markdown",
   "metadata": {},
   "source": [
    "### Intel(R) Core(TM) i9-9900K CPU @ 3.60GHz + NVIDIA RTX 3090"
   ]
  },
  {
   "cell_type": "code",
   "execution_count": 9,
   "metadata": {},
   "outputs": [
    {
     "name": "stdout",
     "output_type": "stream",
     "text": [
      "Processed 310 photos\n",
      "Time 15.948540687561035\n",
      "One photo process 0.05144690544374528 seconds\n",
      "\n",
      "image_load_time_all 6.033987283706665; 0.01946447510873118 per one photo\n",
      "detect_bbox_time_all 2.778740644454956; 0.008963679498241794 per one photo\n",
      "craft_time_all 4.546112775802612; 0.01466487992194391 per one photo\n",
      "perspective_align_time_all 0.9103446006774902; 0.00293659548605642 per one photo\n",
      "classification_time_all 0.7576234340667725; 0.0024439465615057176 per one photo\n",
      "ocr_time_all 0.908959150314331; 0.002932126291336552 per one photo\n"
     ]
    }
   ],
   "source": [
    "print(f\"Processed {j} photos\")\n",
    "print(f\"Time {end_time}\")\n",
    "print(f\"One photo process {end_time/j} seconds\")\n",
    "print()\n",
    "print(f\"image_load_time_all {image_load_time_all}; {image_load_time_all/j} per one photo\")\n",
    "print(f\"detect_bbox_time_all {detect_bbox_time_all}; {detect_bbox_time_all/j} per one photo\")\n",
    "print(f\"craft_time_all {craft_time_all}; {craft_time_all/j} per one photo\")\n",
    "print(f\"perspective_align_time_all {perspective_align_time_all}; {perspective_align_time_all/j} per one photo\")\n",
    "print(f\"classification_time_all {classification_time_all}; {classification_time_all/j} per one photo\")\n",
    "print(f\"ocr_time_all {ocr_time_all}; {ocr_time_all/j} per one photo\")"
   ]
  },
  {
   "cell_type": "code",
   "execution_count": 10,
   "metadata": {},
   "outputs": [],
   "source": [
    "# cv2 image load time 0.057034785930926986\n",
    "# TurboJPEG image load time 0.030525074555323675"
   ]
  },
  {
   "cell_type": "markdown",
   "metadata": {},
   "source": [
    "### Jetson Xavier"
   ]
  },
  {
   "cell_type": "code",
   "execution_count": 9,
   "metadata": {},
   "outputs": [
    {
     "name": "stdout",
     "output_type": "stream",
     "text": [
      "Processed 310 photos\n",
      "Time 93.16693091392517\n",
      "One photo process 0.30053848681911344 seconds\n",
      "\n",
      "image_load_time_all 14.228685140609741; 0.04589898432454755 per one photo\n",
      "detect_bbox_time_all 21.19175148010254; 0.06836048864549206 per one photo\n",
      "craft_time_all 38.692033767700195; 0.1248130121538716 per one photo\n",
      "perspective_align_time_all 1.2044258117675781; 0.0038852445540889617 per one photo\n",
      "classification_time_all 8.702797651290894; 0.028073540810615787 per one photo\n",
      "ocr_time_all 9.094999313354492; 0.029338707462433847 per one photo\n"
     ]
    }
   ],
   "source": [
    "print(f\"Processed {j} photos\")\n",
    "print(f\"Time {end_time}\")\n",
    "print(f\"One photo process {end_time/j} seconds\")\n",
    "print()\n",
    "print(f\"image_load_time_all {image_load_time_all}; {image_load_time_all/j} per one photo\")\n",
    "print(f\"detect_bbox_time_all {detect_bbox_time_all}; {detect_bbox_time_all/j} per one photo\")\n",
    "print(f\"craft_time_all {craft_time_all}; {craft_time_all/j} per one photo\")\n",
    "print(f\"perspective_align_time_all {perspective_align_time_all}; {perspective_align_time_all/j} per one photo\")\n",
    "print(f\"classification_time_all {classification_time_all}; {classification_time_all/j} per one photo\")\n",
    "print(f\"ocr_time_all {ocr_time_all}; {ocr_time_all/j} per one photo\")"
   ]
  },
  {
   "cell_type": "markdown",
   "metadata": {},
   "source": [
    "### AMD 5950X + NVIDIA TITAN XP 12Gb (Measured by aliansplastby)"
   ]
  },
  {
   "cell_type": "raw",
   "metadata": {},
   "source": [
    "Processed 310 photos\n",
    "Time 13.897008419036865\n",
    "One photo process 0.04482905941624795 seconds\n",
    "\n",
    "image_load_time_all 4.69725775718689; 0.015152444378022224 per one photo\n",
    "detect_bbox_time_all 2.2929203510284424; 0.007396517261382072 per one photo\n",
    "craft_time_all 4.470111846923828; 0.014419715635238155 per one photo\n",
    "perspective_align_time_all 0.7009255886077881; 0.0022610502858315747 per one photo\n",
    "classification_time_all 0.7474820613861084; 0.0024112324560842204 per one photo\n",
    "ocr_time_all 0.9838879108428955; 0.003173831970460953 per one photo"
   ]
  },
  {
   "cell_type": "markdown",
   "metadata": {},
   "source": [
    "### AMD 5950X + 3060TI LHR (Measured by aliansplastby)"
   ]
  },
  {
   "cell_type": "raw",
   "metadata": {},
   "source": [
    "Processed 310 photos\n",
    "Time 14.091116189956665\n",
    "One photo process 0.04545521351598924 seconds\n",
    "\n",
    "image_load_time_all 4.798529863357544; 0.015479128591475948 per one photo\n",
    "detect_bbox_time_all 2.460993528366089; 0.007938688801180932 per one photo\n",
    "craft_time_all 4.525857448577881; 0.014599540156702841 per one photo\n",
    "perspective_align_time_all 0.7003147602081299; 0.0022590798716391287 per one photo\n",
    "classification_time_all 0.703162670135498; 0.002268266677856445 per one photo\n",
    "ocr_time_all 0.8927915096282959; 0.00287997261170418 per one photo"
   ]
  },
  {
   "cell_type": "code",
   "execution_count": null,
   "metadata": {},
   "outputs": [],
   "source": []
  }
 ],
 "metadata": {
  "kernelspec": {
   "display_name": "Python 3 (ipykernel)",
   "language": "python",
   "name": "python3"
  },
  "language_info": {
   "codemirror_mode": {
    "name": "ipython",
    "version": 3
   },
   "file_extension": ".py",
   "mimetype": "text/x-python",
   "name": "python",
   "nbconvert_exporter": "python",
   "pygments_lexer": "ipython3",
   "version": "3.10.0"
  }
 },
 "nbformat": 4,
 "nbformat_minor": 2
}
