{
 "cells": [
  {
   "cell_type": "markdown",
   "metadata": {},
   "source": [
    "# This example demonstrate how to train YOLO detector model"
   ]
  },
  {
   "cell_type": "code",
   "execution_count": 1,
   "metadata": {},
   "outputs": [
    {
     "name": "stderr",
     "output_type": "stream",
     "text": [
      "\r",
      "0it [00:00, ?it/s]"
     ]
    },
    {
     "name": "stdout",
     "output_type": "stream",
     "text": [
      "git clone https://github.com/ultralytics/yolov5.git\n"
     ]
    },
    {
     "name": "stderr",
     "output_type": "stream",
     "text": [
      "100%|██████████| 7044.0/7044.0 [00:01<00:00, 4043.68it/s]  "
     ]
    }
   ],
   "source": [
    "import sys\n",
    "import os\n",
    "import json\n",
    "import yaml\n",
    "import shutil\n",
    "import matplotlib.pyplot as plt\n",
    "\n",
    "# change this property\n",
    "NOMEROFF_NET_DIR = os.path.abspath('../')\n",
    "sys.path.append(NOMEROFF_NET_DIR)\n",
    "\n",
    "from NomeroffNet.tools.yolo_tools import convert_dataset_to_yolo_format"
   ]
  },
  {
   "cell_type": "code",
   "execution_count": 2,
   "metadata": {},
   "outputs": [],
   "source": [
    "plt.rcParams[\"figure.figsize\"] = (20, 10)"
   ]
  },
  {
   "cell_type": "code",
   "execution_count": 3,
   "metadata": {},
   "outputs": [],
   "source": [
    "%matplotlib inline "
   ]
  },
  {
   "cell_type": "markdown",
   "metadata": {},
   "source": [
    "# Download dataset and yolo repo"
   ]
  },
  {
   "cell_type": "code",
   "execution_count": 4,
   "metadata": {},
   "outputs": [],
   "source": [
    "# auto download latest dataset\n",
    "from NomeroffNet.tools import modelhub\n",
    "\n",
    "# get yolov5\n",
    "info = modelhub.download_repo_for_model(\"yolov5\")\n",
    "repo_path = info[\"repo_path\"]\n",
    "\n",
    "# auto download latest dataset\n",
    "info = modelhub.download_dataset_for_model(\"yolov5\")\n",
    "PATH_TO_DATASET = info[\"dataset_path\"]"
   ]
  },
  {
   "cell_type": "markdown",
   "metadata": {},
   "source": [
    "# Convert dataset to yolo format"
   ]
  },
  {
   "cell_type": "code",
   "execution_count": 5,
   "metadata": {},
   "outputs": [],
   "source": [
    "CLASSES = ['numberplate']\n",
    "STATES  = [\"val\",\"train\"]\n",
    "#STATES  = [\"val\"]\n",
    "\n",
    "PATH_TO_RES_ANN = os.path.join(os.path.dirname(PATH_TO_DATASET), \"./npdata/labels/{}\")\n",
    "PATH_TO_RES_IMAGES  = os.path.join(os.path.dirname(PATH_TO_DATASET), \"./npdata/images/{}\")\n",
    "\n",
    "PATH_TO_JSON = os.path.join(PATH_TO_DATASET, \"{}/via_region_data.json\")\n",
    "PATH_TO_IMAGES = os.path.join(PATH_TO_DATASET, \"{}/\")"
   ]
  },
  {
   "cell_type": "code",
   "execution_count": 6,
   "metadata": {},
   "outputs": [
    {
     "name": "stdout",
     "output_type": "stream",
     "text": [
      "[INFO] val data exists\n",
      "[INFO] train data exists\n"
     ]
    }
   ],
   "source": [
    "EXIST_STRATEGY = \"exist_ok\" # \"delete\", \"exist_ok\"\n",
    "\n",
    "for state in STATES:\n",
    "    path_to_res_ann    = PATH_TO_RES_ANN.format(state)\n",
    "    path_to_res_images = PATH_TO_RES_IMAGES.format(state)\n",
    "    \n",
    "    if os.path.exists(path_to_res_ann) and os.path.exists(path_to_res_images) and EXIST_STRATEGY == \"exist_ok\":\n",
    "        print(\"[INFO]\", state, \"data exists\")\n",
    "        continue\n",
    "    if EXIST_STRATEGY == \"delete\":\n",
    "        shutil.rmtree(path_to_res_ann)\n",
    "        shutil.rmtree(path_to_res_images)\n",
    "    \n",
    "    print(\"[INFO]\", state, \"data creating...\")\n",
    "    os.makedirs(path_to_res_ann, exist_ok=True)\n",
    "    os.makedirs(path_to_res_images, exist_ok=True)\n",
    "    \n",
    "    path_to_json    = PATH_TO_JSON.format(state)\n",
    "    path_to_images  = PATH_TO_IMAGES.format(state)\n",
    "    \n",
    "    convert_dataset_to_yolo_format(\n",
    "        path_to_res_ann, \n",
    "        path_to_res_images,\n",
    "        path_to_images, \n",
    "        path_to_json, \n",
    "        debug=False,\n",
    "        is_generate_image_rotation_variants=True\n",
    "    )\n",
    "    "
   ]
  },
  {
   "cell_type": "markdown",
   "metadata": {},
   "source": [
    "# Create yaml config"
   ]
  },
  {
   "cell_type": "code",
   "execution_count": 7,
   "metadata": {},
   "outputs": [
    {
     "name": "stdout",
     "output_type": "stream",
     "text": [
      "[INFO] config: {'path': '/var/www/nomeroff-net24/NomeroffNet/tools/../../data/./dataset/Detector/yolov5', 'train': './npdata/images/train', 'val': './npdata/images/val', 'nc': 1, 'names': ['numberplate']}\n",
      "[INFO] config saved into /var/www/nomeroff-net24/NomeroffNet/tools/../../data/./dataset/Detector/yolov5/./npdata/numberplate_config.yaml\n"
     ]
    }
   ],
   "source": [
    "yaml_path = os.path.join(os.path.dirname(PATH_TO_DATASET), \"./npdata/numberplate_config.yaml\")\n",
    "yaml_dataset_config = {\n",
    "    # Train/val/test sets\n",
    "    \"path\": os.path.dirname(PATH_TO_DATASET), \n",
    "    \"train\": \"./npdata/images/train\",\n",
    "    \"val\": \"./npdata/images/val\",\n",
    "    #\"test\": \"\" # test images (optional)\n",
    "    \n",
    "    # Classes\n",
    "    \"nc\": 1,  # number of classes\n",
    "    \"names\": [ \"numberplate\" ]  # class names\n",
    "}\n",
    "print(\"[INFO] config:\", yaml_dataset_config)\n",
    "print(\"[INFO] config saved into\", yaml_path)\n",
    "with open(yaml_path, 'w') as yaml_file:\n",
    "    yaml.dump(yaml_dataset_config, \n",
    "              yaml_file, \n",
    "              default_flow_style=False)"
   ]
  },
  {
   "cell_type": "markdown",
   "metadata": {},
   "source": [
    "# CLI yolo training"
   ]
  },
  {
   "cell_type": "code",
   "execution_count": 8,
   "metadata": {},
   "outputs": [
    {
     "name": "stdout",
     "output_type": "stream",
     "text": [
      "/bin/bash: рядок 1: wandb: команду не знайдено\n",
      "\u001b[34m\u001b[1mtrain: \u001b[0mweights=yolov5s.pt, cfg=, data=/var/www/nomeroff-net24/NomeroffNet/tools/../../data/./dataset/Detector/yolov5/./npdata/numberplate_config.yaml, hyp=data/hyps/hyp.scratch.yaml, epochs=100, batch_size=8, imgsz=640, rect=False, resume=False, nosave=False, noval=False, noautoanchor=False, evolve=None, bucket=, cache=None, image_weights=False, device=, multi_scale=False, single_cls=False, adam=False, sync_bn=False, workers=8, project=runs/train, name=exp, exist_ok=False, quad=False, linear_lr=False, label_smoothing=0.0, patience=100, freeze=0, save_period=-1, local_rank=-1, entity=None, upload_dataset=False, bbox_interval=-1, artifact_alias=latest\n",
      "\u001b[34m\u001b[1mgithub: \u001b[0mup to date with https://github.com/ultralytics/yolov5 ✅\n",
      "YOLOv5 🚀 v6.0-137-g2c63175 torch 1.10.0+cu113 CUDA:0 (NVIDIA GeForce RTX 3090, 24265MiB)\n",
      "\n",
      "\u001b[34m\u001b[1mhyperparameters: \u001b[0mlr0=0.01, lrf=0.1, momentum=0.937, weight_decay=0.0005, warmup_epochs=3.0, warmup_momentum=0.8, warmup_bias_lr=0.1, box=0.05, cls=0.5, cls_pw=1.0, obj=1.0, obj_pw=1.0, iou_t=0.2, anchor_t=4.0, fl_gamma=0.0, hsv_h=0.015, hsv_s=0.7, hsv_v=0.4, degrees=0.0, translate=0.1, scale=0.5, shear=0.0, perspective=0.0, flipud=0.0, fliplr=0.5, mosaic=1.0, mixup=0.0, copy_paste=0.0\n",
      "\u001b[34m\u001b[1mWeights & Biases: \u001b[0mrun 'pip install wandb' to automatically track and visualize YOLOv5 🚀 runs (RECOMMENDED)\n",
      "\u001b[34m\u001b[1mTensorBoard: \u001b[0mStart with 'tensorboard --logdir runs/train', view at http://localhost:6006/\n",
      "Downloading https://github.com/ultralytics/yolov5/releases/download/v6.0/yolov5s.pt to yolov5s.pt...\n",
      "100%|██████████████████████████████████████| 14.0M/14.0M [00:01<00:00, 8.08MB/s]\n",
      "\n",
      "Overriding model.yaml nc=80 with nc=1\n",
      "\n",
      "                 from  n    params  module                                  arguments                     \n",
      "  0                -1  1      3520  models.common.Conv                      [3, 32, 6, 2, 2]              \n",
      "  1                -1  1     18560  models.common.Conv                      [32, 64, 3, 2]                \n",
      "  2                -1  1     18816  models.common.C3                        [64, 64, 1]                   \n",
      "  3                -1  1     73984  models.common.Conv                      [64, 128, 3, 2]               \n",
      "  4                -1  2    115712  models.common.C3                        [128, 128, 2]                 \n",
      "  5                -1  1    295424  models.common.Conv                      [128, 256, 3, 2]              \n",
      "  6                -1  3    625152  models.common.C3                        [256, 256, 3]                 \n",
      "  7                -1  1   1180672  models.common.Conv                      [256, 512, 3, 2]              \n",
      "  8                -1  1   1182720  models.common.C3                        [512, 512, 1]                 \n",
      "  9                -1  1    656896  models.common.SPPF                      [512, 512, 5]                 \n",
      " 10                -1  1    131584  models.common.Conv                      [512, 256, 1, 1]              \n",
      " 11                -1  1         0  torch.nn.modules.upsampling.Upsample    [None, 2, 'nearest']          \n",
      " 12           [-1, 6]  1         0  models.common.Concat                    [1]                           \n",
      " 13                -1  1    361984  models.common.C3                        [512, 256, 1, False]          \n",
      " 14                -1  1     33024  models.common.Conv                      [256, 128, 1, 1]              \n",
      " 15                -1  1         0  torch.nn.modules.upsampling.Upsample    [None, 2, 'nearest']          \n",
      " 16           [-1, 4]  1         0  models.common.Concat                    [1]                           \n",
      " 17                -1  1     90880  models.common.C3                        [256, 128, 1, False]          \n",
      " 18                -1  1    147712  models.common.Conv                      [128, 128, 3, 2]              \n",
      " 19          [-1, 14]  1         0  models.common.Concat                    [1]                           \n",
      " 20                -1  1    296448  models.common.C3                        [256, 256, 1, False]          \n",
      " 21                -1  1    590336  models.common.Conv                      [256, 256, 3, 2]              \n",
      " 22          [-1, 10]  1         0  models.common.Concat                    [1]                           \n",
      " 23                -1  1   1182720  models.common.C3                        [512, 512, 1, False]          \n",
      " 24      [17, 20, 23]  1     16182  models.yolo.Detect                      [1, [[10, 13, 16, 30, 33, 23], [30, 61, 62, 45, 59, 119], [116, 90, 156, 198, 373, 326]], [128, 256, 512]]\n",
      "Model Summary: 270 layers, 7022326 parameters, 7022326 gradients, 15.8 GFLOPs\n",
      "\n",
      "Transferred 343/349 items from yolov5s.pt\n",
      "Scaled weight_decay = 0.0005\n",
      "\u001b[34m\u001b[1moptimizer:\u001b[0m SGD with parameter groups 57 weight, 60 weight (no decay), 60 bias\n",
      "\u001b[34m\u001b[1mtrain: \u001b[0mScanning '/var/www/nomeroff-net24/NomeroffNet/tools/../../data/dataset/De\u001b[0m\n",
      "\u001b[34m\u001b[1mtrain: \u001b[0mNew cache created: /var/www/nomeroff-net24/NomeroffNet/tools/../../data/dataset/Detector/yolov5/npdata/labels/train.cache\n",
      "\u001b[34m\u001b[1mval: \u001b[0mScanning '/var/www/nomeroff-net24/NomeroffNet/tools/../../data/dataset/Dete\u001b[0m\n",
      "\u001b[34m\u001b[1mval: \u001b[0mNew cache created: /var/www/nomeroff-net24/NomeroffNet/tools/../../data/dataset/Detector/yolov5/npdata/labels/val.cache\n",
      "Plotting labels to runs/train/exp/labels.jpg... \n",
      "\n",
      "\u001b[34m\u001b[1mAutoAnchor: \u001b[0m5.06 anchors/target, 0.996 Best Possible Recall (BPR). Current anchors are a good fit to dataset ✅\n",
      "Image sizes 640 train, 640 val\n",
      "Using 8 dataloader workers\n",
      "Logging results to \u001b[1mruns/train/exp\u001b[0m\n",
      "Starting training for 100 epochs...\n",
      "\n",
      "     Epoch   gpu_mem       box       obj       cls    labels  img_size\n",
      "      0/99     1.91G   0.04472   0.01205         0        13       640: 100%|███\n",
      "               Class     Images     Labels          P          R     mAP@.5 mAP@\n",
      "                 all       1504       1620      0.979      0.923      0.961      0.672\n",
      "\n",
      "     Epoch   gpu_mem       box       obj       cls    labels  img_size\n",
      "      1/99     2.57G   0.02892  0.006809         0        15       640: 100%|███\n",
      "               Class     Images     Labels          P          R     mAP@.5 mAP@\n",
      "                 all       1504       1620      0.973      0.945       0.97      0.729\n",
      "\n",
      "     Epoch   gpu_mem       box       obj       cls    labels  img_size\n",
      "      2/99     2.57G   0.02599   0.00638         0        17       640: 100%|███\n",
      "               Class     Images     Labels          P          R     mAP@.5 mAP@^C\n",
      "               Class     Images     Labels          P          R     mAP@.5 mAP@\n",
      "Traceback (most recent call last):\n",
      "  File \"/var/www/nomeroff-net24/data/repos/Detector/yolov5/train.py\", line 626, in <module>\n",
      "    main(opt)\n",
      "  File \"/var/www/nomeroff-net24/data/repos/Detector/yolov5/train.py\", line 523, in main\n",
      "    train(opt.hyp, opt, device, callbacks)\n",
      "  File \"/var/www/nomeroff-net24/data/repos/Detector/yolov5/train.py\", line 357, in train\n",
      "    results, maps, _ = val.run(data_dict,\n",
      "  File \"/usr/local/lib64/python3.9/site-packages/torch/autograd/grad_mode.py\", line 28, in decorate_context\n",
      "    return func(*args, **kwargs)\n",
      "  File \"/var/www/nomeroff-net24/data/repos/Detector/yolov5/val.py\", line 191, in run\n",
      "    out = non_max_suppression(out, conf_thres, iou_thres, labels=lb, multi_label=True, agnostic=single_cls)\n",
      "  File \"/var/www/nomeroff-net24/data/repos/Detector/yolov5/utils/general.py\", line 715, in non_max_suppression\n",
      "    c = x[:, 5:6] * (0 if agnostic else max_wh)  # classes\n",
      "KeyboardInterrupt\n"
     ]
    }
   ],
   "source": [
    "!cd {repo_path}; \\\n",
    " wandb offline; \\\n",
    " python3.9 train.py \\\n",
    "    --img 640 \\\n",
    "    --batch 8 \\\n",
    "    --epochs 100 \\\n",
    "    --data {yaml_path} \\\n",
    "    --weights yolov5s.pt"
   ]
  },
  {
   "cell_type": "code",
   "execution_count": 9,
   "metadata": {},
   "outputs": [
    {
     "data": {
      "text/plain": [
       "'/mnt/store/nomeroff-net/nomeroff-net/NomeroffNet/tools/../../data/./repos/Detector/yolov5'"
      ]
     },
     "execution_count": 9,
     "metadata": {},
     "output_type": "execute_result"
    }
   ],
   "source": [
    "repo_path"
   ]
  },
  {
   "cell_type": "markdown",
   "metadata": {},
   "source": [
    "## Run wandb localy\n",
    "\n",
    "```\n",
    "docker run --rm -it -v wandb:{repo_path}/wandb -p 8080:8080 --ip 0.0.0.0 --name wandb-local wandb/local\n",
    "```"
   ]
  },
  {
   "cell_type": "code",
   "execution_count": null,
   "metadata": {},
   "outputs": [],
   "source": []
  }
 ],
 "metadata": {
  "kernelspec": {
   "display_name": "Python ",
   "language": "python",
   "name": "py"
  },
  "language_info": {
   "codemirror_mode": {
    "name": "ipython",
    "version": 3
   },
   "file_extension": ".py",
   "mimetype": "text/x-python",
   "name": "python",
   "nbconvert_exporter": "python",
   "pygments_lexer": "ipython3",
   "version": "3.9.8"
  }
 },
 "nbformat": 4,
 "nbformat_minor": 4
}
