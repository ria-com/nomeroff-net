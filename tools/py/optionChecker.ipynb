{
 "cells": [
  {
   "cell_type": "code",
   "execution_count": 1,
   "metadata": {},
   "outputs": [],
   "source": [
    "# Import all necessary libraries.\n",
    "import os\n",
    "import cv2\n",
    "import sys\n",
    "import json\n",
    "import matplotlib.image as mpimg\n",
    "import warnings\n",
    "from collections import Counter\n",
    "warnings.filterwarnings('ignore')\n",
    "\n",
    "# change this property\n",
    "NOMEROFF_NET_DIR = os.path.abspath('../../')\n",
    "sys.path.append(NOMEROFF_NET_DIR)"
   ]
  },
  {
   "cell_type": "code",
   "execution_count": 2,
   "metadata": {},
   "outputs": [
    {
     "name": "stderr",
     "output_type": "stream",
     "text": [
      "Using TensorFlow backend.\n",
      "WARNING: Logging before flag parsing goes to stderr.\n",
      "W0524 18:37:04.413190 139812976022848 deprecation.py:237] From /usr/local/lib64/python3.6/site-packages/keras/backend/tensorflow_backend.py:4139: The name tf.random_uniform is deprecated. Please use tf.random.uniform instead.\n",
      "\n",
      "W0524 18:37:04.575600 139812976022848 deprecation.py:506] From /usr/local/lib64/python3.6/site-packages/keras/backend/tensorflow_backend.py:3445: calling dropout (from tensorflow.python.ops.nn_ops) with keep_prob is deprecated and will be removed in a future version.\n",
      "Instructions for updating:\n",
      "Please use `rate` instead of `keep_prob`. Rate should be set to `rate = 1 - keep_prob`.\n",
      "W0524 18:37:04.692456 139812976022848 deprecation.py:506] From /usr/local/lib/python3.6/site-packages/tensorflow/python/training/moving_averages.py:211: calling Zeros.__init__ (from tensorflow.python.ops.init_ops) with dtype is deprecated and will be removed in a future version.\n",
      "Instructions for updating:\n",
      "Call initializer instance with the dtype argument instead of passing it to the constructor\n",
      "W0524 18:37:05.936109 139812976022848 deprecation.py:237] From /usr/local/lib64/python3.6/site-packages/keras/backend/tensorflow_backend.py:3295: The name tf.log is deprecated. Please use tf.math.log instead.\n",
      "\n"
     ]
    }
   ],
   "source": [
    "# Import license plate recognition tools.\n",
    "from NomeroffNet import  OptionsDetector\n",
    "\n",
    "optionsDetector = OptionsDetector()\n",
    "optionsDetector.load(\"latest\")"
   ]
  },
  {
   "cell_type": "code",
   "execution_count": 3,
   "metadata": {},
   "outputs": [],
   "source": [
    "def optionChecker(datasetDir, imgFormat=\"png\", partSize=100):\n",
    "    ann = \"ann\"\n",
    "    img = \"img\"\n",
    "    annDir = os.path.join(datasetDir, ann)\n",
    "    imgDir = os.path.join(datasetDir, img)\n",
    "    \n",
    "    imgFnames        = []\n",
    "    nottedRegions    = []\n",
    "    nottedCountLines = []\n",
    "    nottedStates     = []\n",
    "    zones            = []\n",
    "    annFnames        = []\n",
    "    annData          = []\n",
    "    i = 0\n",
    "    counter = Counter()\n",
    "    for dirName, subdirList, fileList in os.walk(annDir):\n",
    "        for fname in fileList:\n",
    "            ann_path = os.path.join(annDir, fname)\n",
    "            \n",
    "            i += 1\n",
    "            annFnames.append(ann_path)\n",
    "            with open(ann_path) as jsonR:\n",
    "                data = json.load(jsonR)\n",
    "            img_name = data[\"name\"]\n",
    "            annData.append(data)\n",
    "            \n",
    "            img_path = os.path.join(imgDir, \"{}.{}\".format(img_name, imgFormat))\n",
    "            zones.append(cv2.cvtColor(mpimg.imread(img_path), cv2.COLOR_RGB2BGR))\n",
    "            \n",
    "            imgFnames.append(img_path)\n",
    "            nottedRegions.append(data[\"region_id\"])\n",
    "            nottedStates.append(data[\"state_id\"])\n",
    "            nottedCountLines.append(data[\"count_lines\"])\n",
    "            if i >= partSize:\n",
    "                # find standart\n",
    "                regionIds, stateIds, countLines = optionsDetector.predict(zones)\n",
    "                for regionId, stateId, zone, nottedRegion, nottedState, imgFname, annFname, annItem, nottedCountL, countL in zip(regionIds, stateIds, zones, nottedRegions, nottedStates, imgFnames, annFnames, annData, countLines, nottedCountLines):\n",
    "                    \n",
    "                    # region\n",
    "                    bad_region=False\n",
    "                    if int(regionId) != int(nottedRegion):\n",
    "                        bad_region=True\n",
    "                        if not('moderation' in annItem):\n",
    "                            annItem['moderation'] = {}\n",
    "                        annItem['moderation']['regionPredicted'] = int(regionId)\n",
    "                        print(\"REGION NOT CORRECT IN {}\".format(imgFname))\n",
    "                        print(\"PREDICTED: {}\".format(regionId))\n",
    "                        print(\"ANNOTATED: {}\".format(nottedRegion))\n",
    "                        counter[\"BAD_REGION\"] += 1\n",
    "                    else:\n",
    "                        counter[\"GOOD_REGION\"] += 1\n",
    "                        \n",
    "                    # state  \n",
    "                    bad_state=False\n",
    "                    if int(stateId) != int(nottedState):\n",
    "                        bad_state=True\n",
    "                        if not('moderation' in annItem):\n",
    "                            annItem['moderation'] = {}\n",
    "                        annItem['moderation']['statePredicted'] = int(stateId)\n",
    "                        print(\"STATE NOT CORRECT IN {}\".format(imgFname))\n",
    "                        print(\"PREDICTED: {}\".format(stateId))\n",
    "                        print(\"ANNOTATED: {}\".format(nottedState))\n",
    "                        counter[\"BAD_STATE\"] += 1\n",
    "                    else:\n",
    "                        counter[\"GOOD_STATE\"] += 1\n",
    "                    \n",
    "                    # count\n",
    "                    bad_count=False\n",
    "                    if int(countL) != int(nottedCountL):\n",
    "                        bad_count=True\n",
    "                        if not('moderation' in annItem):\n",
    "                            annItem['moderation'] = {}\n",
    "                        annItem['moderation']['countPredicted'] = int(countL)\n",
    "                        print(\"COUNT LINES NOT CORRECT IN {}\".format(imgFname))\n",
    "                        print(\"PREDICTED: {}\".format(countL))\n",
    "                        print(\"ANNOTATED: {}\".format(nottedCountL))\n",
    "                        counter[\"BAD_COUNT\"] += 1\n",
    "                    else:\n",
    "                        counter[\"GOOD_COUNT\"] += 1\n",
    "\n",
    "                    if 'moderation' in annItem and (bad_region or bad_state or bad_count):\n",
    "                        with open(annFname, \"w\") as jsonW:\n",
    "                            annItem['moderation']['isModerated'] = 0\n",
    "                            json.dump(annItem, jsonW)                    \n",
    "                    \n",
    "                imgFnames        = []\n",
    "                nottedRegions    = []\n",
    "                nottedCountLines = []\n",
    "                nottedStates     = []\n",
    "                zones            = []\n",
    "                annFnames        = []\n",
    "                annData          = []\n",
    "    print(counter)"
   ]
  },
  {
   "cell_type": "code",
   "execution_count": 8,
   "metadata": {},
   "outputs": [
    {
     "name": "stdout",
     "output_type": "stream",
     "text": [
      "Counter()\n"
     ]
    }
   ],
   "source": [
    "valDir = os.path.join(NOMEROFF_NET_DIR, \"datasets/lnr\")\n",
    "optionChecker(valDir)"
   ]
  },
  {
   "cell_type": "code",
   "execution_count": 5,
   "metadata": {
    "pycharm": {
     "name": "#%%\n"
    }
   },
   "outputs": [
    {
     "data": {
      "text/plain": [
       "5.283333333333333"
      ]
     },
     "execution_count": 5,
     "metadata": {},
     "output_type": "execute_result"
    }
   ],
   "source": []
  }
 ],
 "metadata": {
  "kernelspec": {
   "display_name": "Python 3 (ipykernel)",
   "language": "python",
   "name": "python3"
  },
  "language_info": {
   "codemirror_mode": {
    "name": "ipython",
    "version": 3
   },
   "file_extension": ".py",
   "mimetype": "text/x-python",
   "name": "python",
   "nbconvert_exporter": "python",
   "pygments_lexer": "ipython3",
   "version": "3.10.0"
  }
 },
 "nbformat": 4,
 "nbformat_minor": 2
}
